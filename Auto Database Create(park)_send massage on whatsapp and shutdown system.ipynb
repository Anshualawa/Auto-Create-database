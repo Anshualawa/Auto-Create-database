{
 "cells": [
  {
   "cell_type": "markdown",
   "id": "8abefb8d",
   "metadata": {},
   "source": [
    "# AutoMatic create database "
   ]
  },
  {
   "cell_type": "code",
   "execution_count": 1,
   "id": "9675158d",
   "metadata": {},
   "outputs": [
    {
     "name": "stdout",
     "output_type": "stream",
     "text": [
      "enter your MySQL password : Alawa@3282\n"
     ]
    }
   ],
   "source": [
    "# first we need to \n",
    "\n",
    "###### pip install pyautogui\n",
    "\n",
    "import pyautogui as p\n",
    "from time import sleep\n",
    "password=input('enter your MySQL password : ')\n",
    "sleep(10)                     # sleep() function for wait how much you take time \n",
    "\n",
    "p.hotkey('winleft','d')       \n",
    "sleep(2)\n",
    "p.hotkey('winleft')\n",
    "sleep(2)\n",
    "\n",
    "p.typewrite(\"mySQL 8.0 Command Line Client\",0.02)\n",
    "sleep(4)\n",
    "p.press('enter')\n",
    "sleep(8)\n",
    "\n",
    "p.write(password)  # 🐇enter your mysql password\n",
    "sleep(3)\n",
    "p.press('enter')\n",
    "\n",
    "sleep(2)\n",
    "\n",
    "p.write(\"drop database park;\")\n",
    "p.press('enter')\n",
    "\n",
    "#sleep(2)\n",
    "\n",
    "p.typewrite(\"show databases;\",0.02)\n",
    "p.press('enter')\n",
    "\n",
    "#sleep(2)\n",
    "p.typewrite(\"create database park;\",0.02)\n",
    "p.press('enter')\n",
    "\n",
    "\n",
    "#sleep(2)\n",
    "p.typewrite(\"use park;\",0.02)\n",
    "p.press('enter')\n",
    "\n",
    "#sleep(2)\n",
    "p.typewrite(\"create table themepark(PARK_CODE int primary key, PARK_NAME varchar(50),PARK_CITY varchar(20),PARK_COUNTRY varchar(20));\",0.02)\n",
    "p.press('enter')\n",
    "\n",
    "#sleep(2)\n",
    "p.typewrite(\"desc themepark;\",0.02)\n",
    "p.press('enter')\n",
    "\n",
    "#sleep(2)\n",
    "p.typewrite(\"create table ATTRACTION(ATTRACT_NO int primary key,PARK_CODE int,ATTRACT_NAME varchar(20),ATTRACT_AGE tinyint,ATTRACT_CAPACITY varchar(20),foreign key(park_code) references themepark(park_code));\",0.02)\n",
    "p.press('enter')\n",
    "\n",
    "#sleep(2)\n",
    "p.typewrite(\"desc attraction;\",0.02)\n",
    "p.press('enter')\n",
    "\n",
    "#sleep(2)\n",
    "p.typewrite(\"create table TICKET(TICKET_NO int primary key,TICKET_PRICE decimal(10,2),TICKET_TYPE varchar(30),PARK_CODE int,foreign key(PARK_CODE) references themepark(park_code));\",0.02)\n",
    "p.press('enter')\n",
    "\n",
    "#sleep(2)\n",
    "p.write(\"desc ticket;\")\n",
    "p.press('enter')\n",
    "\n",
    "#sleep(2)\n",
    "p.typewrite(\"create table EMPLOYEE(EMP_NUM int primary key, EMP_TITLE varchar(30),EMP_LNAME varchar(20),EMP_FNAME varchar(20),EMP_DOB date,EMP_HIRE_DATE date,EMP_AREA_CODE int,EMP_PHONE bigint(13),PARK_CODE int,foreign key(PARK_CODE) references themepark(park_code));\",0.02)\n",
    "p.press('enter')\n",
    "\n",
    "#sleep(2)\n",
    "p.write(\"desc employee;\")\n",
    "p.press('enter')\n",
    "\n",
    "\n",
    "#sleep(2)\n",
    "p.typewrite(\"create table SALES(TRANSACTION_NO int primary key,PARK_CODE int,SALE_DATE date,foreign key (PARK_CODE) references themepark(park_code));\",0.02)\n",
    "p.press('enter')\n",
    "\n",
    "\n",
    "\n",
    "#sleep(2)\n",
    "p.write(\"desc sales;\")\n",
    "p.press('enter')\n",
    "\n",
    "\n",
    "#sleep(2)\n",
    "p.typewrite(\"create table SALES_LINE(TRANSACTION_NO int primary key,LINE_NO int not null unique key,TICKET_NO int,LINE_QTY varchar(30),LINE_PRICE decimal(10,2),foreign key(TRANSACTION_NO) references sales(TRANSACTION_NO));\",0.02)\n",
    "p.press('enter')\n",
    "\n",
    "\n",
    "#sleep(2)\n",
    "p.typewrite(\"alter table sales_line add foreign key(TICKET_NO) references ticket(TICKET_NO);\",0.02)\n",
    "p.press('enter')\n",
    "\n",
    "#sleep(2)\n",
    "p.write(\"desc sales_line;\")\n",
    "p.press('enter')\n",
    "\n",
    "\n",
    "#sleep(2)\n",
    "p.write(\"desc attraction;\")\n",
    "p.press('enter')\n",
    "\n",
    "\n",
    "#sleep(2)\n",
    "p.typewrite(\"create table HOURS(EMP_NUM int primary key,ATTRACT_NO int not null unique key,HOUR_PER_ATTRACT varchar(20),HOUR_RATE varchar(10),DATE_WORKED date,foreign key(EMP_NUM) references employee(emp_num),foreign key(attract_no) references attraction(attract_no));\",0.02)\n",
    "p.press('enter')\n",
    "\n",
    "\n",
    "#sleep(2)\n",
    "p.write(\"desc hours;\")\n",
    "p.press('enter')\n",
    "\n",
    "#sleep(2)\n",
    "p.write(\"show tables;\")\n",
    "p.press('enter')\n",
    "\n",
    "\n"
   ]
  },
  {
   "cell_type": "markdown",
   "id": "79ca6e11",
   "metadata": {},
   "source": [
    "#  Send a WhatsApp Message Automatic"
   ]
  },
  {
   "cell_type": "code",
   "execution_count": 1,
   "id": "30cb2ee2",
   "metadata": {},
   "outputs": [
    {
     "name": "stdout",
     "output_type": "stream",
     "text": [
      "In 89 Seconds WhatsApp will open and after 15 Seconds Message will be Delivered!\n"
     ]
    }
   ],
   "source": [
    "import pyautogui as p\n",
    "import pywhatkit as pwk\n",
    "from time import sleep as s\n",
    "import random as r\n",
    "sms=['attractive','pretty','handsome','good-looking','nice-looking',\n",
    "     'pleasing','alluring','lovely','charming','delightful']\n",
    "# pwk.sendwhatmsg(\"+91 enter number to send massage \", \"write massage\", hour(24), minute) \n",
    "pwk.sendwhatmsg(\"+91 7222942093\", f\"You are {r.choice(sms)}\", 23, 12) \n",
    "s(6)\n",
    "for i in sms:\n",
    "    s(3)\n",
    "    p.hotkey('enter')\n",
    "    p.typewrite(f\" Your are {r.choice(sms)}\",0.02)\n",
    "    s(2)\n",
    "    p.hotkey('enter')"
   ]
  },
  {
   "cell_type": "markdown",
   "id": "3cf8f713",
   "metadata": {},
   "source": [
    "# System shutdown"
   ]
  },
  {
   "cell_type": "code",
   "execution_count": 18,
   "id": "02b1861f",
   "metadata": {
    "scrolled": true
   },
   "outputs": [],
   "source": [
    "import pyautogui as p\n",
    "from time import sleep\n",
    "sleep(4)\n",
    "p.hotkey('winleft','d')\n",
    "sleep(4)\n",
    "p.hotkey('alt','f4')\n",
    "p.hotkey('enter')"
   ]
  }
 ],
 "metadata": {
  "kernelspec": {
   "display_name": "Python 3 (ipykernel)",
   "language": "python",
   "name": "python3"
  },
  "language_info": {
   "codemirror_mode": {
    "name": "ipython",
    "version": 3
   },
   "file_extension": ".py",
   "mimetype": "text/x-python",
   "name": "python",
   "nbconvert_exporter": "python",
   "pygments_lexer": "ipython3",
   "version": "3.10.4"
  }
 },
 "nbformat": 4,
 "nbformat_minor": 5
}
